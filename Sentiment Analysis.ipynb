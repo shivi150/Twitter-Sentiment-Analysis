{
 "cells": [
  {
   "cell_type": "markdown",
   "metadata": {},
   "source": [
    "# Twitter Data Sentiment Analysis"
   ]
  },
  {
   "cell_type": "markdown",
   "metadata": {},
   "source": [
    "### Link for study : https://stepupanalytics.com/sentiment-analysis-on-narendra-modis-tweets-using-python/#prettyPhoto"
   ]
  },
  {
   "cell_type": "code",
   "execution_count": 1,
   "metadata": {},
   "outputs": [],
   "source": [
    "%matplotlib inline\n",
    "import tweepy\n",
    "import pandas as pd\n",
    "import numpy as np\n",
    "from IPython.display import display\n",
    "import matplotlib.pyplot as plt\n",
    "import seaborn as sns\n"
   ]
  },
  {
   "cell_type": "markdown",
   "metadata": {},
   "source": [
    "## Creating a twitter app for @user"
   ]
  },
  {
   "cell_type": "code",
   "execution_count": 2,
   "metadata": {},
   "outputs": [],
   "source": [
    "# Access\n",
    "acces_token='966289632815144960-7BYnTY1ABbykfiNJNkZtjfhfmJfSsUl'\n",
    "acces_token_secret='irZDHPTcMNYSikwCI9UohSlayGbGcLVEccvGptwaWOyil'\n",
    "\n",
    "#Consumer\n",
    "consumer_key='enMyXDNHgcbBiRMUv9TfPHRW9'\n",
    "consumer_secret='Yp4e9s856kllbT5JyZYxL1Pk4i88R9Mk9FaJT7rH0nBHlGO3Ks'"
   ]
  },
  {
   "cell_type": "code",
   "execution_count": 3,
   "metadata": {},
   "outputs": [],
   "source": [
    "# We import our access keys:\n",
    " \n",
    "def twitter_setup():\n",
    "    \n",
    "    auth = tweepy.OAuthHandler(consumer_key, consumer_secret)\n",
    "    auth.set_access_token(acces_token, acces_token_secret)\n",
    "    \n",
    "    api = tweepy.API(auth)\n",
    "    return api"
   ]
  },
  {
   "cell_type": "markdown",
   "metadata": {},
   "source": [
    "## Tweet Extraction"
   ]
  },
  {
   "cell_type": "code",
   "execution_count": 4,
   "metadata": {},
   "outputs": [
    {
     "name": "stdout",
     "output_type": "stream",
     "text": [
      "number of tweets extracted: 3210.\n",
      "\n",
      "5 recent tweets:\n",
      "\n",
      "The enthusiasm in Latur was unparalleled. People from all sections of society came. Happy to see farmers and women… https://t.co/CVMPBKzWv5\n",
      "\n",
      "Shri KM Mani was a stalwart of Kerala politics. His impeccable electoral record indicated his deep connect with the… https://t.co/eUkYNgtXmo\n",
      "\n",
      "Come to Mysuru and see the strong support for BJP! https://t.co/TIPJuQjbor\n",
      "\n",
      "Hello Karnataka! Beginning the campaign in the state with a massive rally in Chitradurga. Watch. https://t.co/xVTaPm5mgm\n",
      "\n",
      "RT @JagranNews: डिक्शनरी में जितने कड़वे और गंदे शब्द होंगे वो सब मेरे बारे में बोले गये...! प्रधानमंत्री नरेंद्र मोदी का दैनिक जागरण को दि…\n",
      "\n"
     ]
    }
   ],
   "source": [
    "extractor = twitter_setup()\n",
    " \n",
    "#tweets = extractor.user_timeline(screen_name=\"NarendraModi\", count = 200)\n",
    "tweets=[tweet for tweet in tweepy.Cursor(extractor.user_timeline,screen_name=\"NarendraModi\").items()]\n",
    "print(\"number of tweets extracted: {}.\\n\".format(len(tweets)))\n",
    " \n",
    "print(\"5 recent tweets:\\n\")\n",
    "for tweet in tweets[:5]:\n",
    "    print(tweet.text)\n",
    "    print()"
   ]
  },
  {
   "cell_type": "markdown",
   "metadata": {},
   "source": [
    "## Creating a (pandas) DataFrame"
   ]
  },
  {
   "cell_type": "code",
   "execution_count": 5,
   "metadata": {},
   "outputs": [
    {
     "data": {
      "text/html": [
       "<div>\n",
       "<style scoped>\n",
       "    .dataframe tbody tr th:only-of-type {\n",
       "        vertical-align: middle;\n",
       "    }\n",
       "\n",
       "    .dataframe tbody tr th {\n",
       "        vertical-align: top;\n",
       "    }\n",
       "\n",
       "    .dataframe thead th {\n",
       "        text-align: right;\n",
       "    }\n",
       "</style>\n",
       "<table border=\"1\" class=\"dataframe\">\n",
       "  <thead>\n",
       "    <tr style=\"text-align: right;\">\n",
       "      <th></th>\n",
       "      <th>tweets</th>\n",
       "    </tr>\n",
       "  </thead>\n",
       "  <tbody>\n",
       "    <tr>\n",
       "      <th>0</th>\n",
       "      <td>The enthusiasm in Latur was unparalleled. Peop...</td>\n",
       "    </tr>\n",
       "    <tr>\n",
       "      <th>1</th>\n",
       "      <td>Shri KM Mani was a stalwart of Kerala politics...</td>\n",
       "    </tr>\n",
       "    <tr>\n",
       "      <th>2</th>\n",
       "      <td>Come to Mysuru and see the strong support for ...</td>\n",
       "    </tr>\n",
       "    <tr>\n",
       "      <th>3</th>\n",
       "      <td>Hello Karnataka! Beginning the campaign in the...</td>\n",
       "    </tr>\n",
       "    <tr>\n",
       "      <th>4</th>\n",
       "      <td>RT @JagranNews: डिक्शनरी में जितने कड़वे और गं...</td>\n",
       "    </tr>\n",
       "    <tr>\n",
       "      <th>5</th>\n",
       "      <td>RT @JagranNews: एक्सक्लूसिव इंटरव्यू में प्रधा...</td>\n",
       "    </tr>\n",
       "    <tr>\n",
       "      <th>6</th>\n",
       "      <td>RT @JagranNews: पीएम मोदी ने जागरण को दिए इंटर...</td>\n",
       "    </tr>\n",
       "    <tr>\n",
       "      <th>7</th>\n",
       "      <td>सेक्युलरिज्म के नाम पर सम्प्रदायवाद करने वालों...</td>\n",
       "    </tr>\n",
       "    <tr>\n",
       "      <th>8</th>\n",
       "      <td>गरीबों के नाम पर हमने राजनीति नहीं की, काम किय...</td>\n",
       "    </tr>\n",
       "    <tr>\n",
       "      <th>9</th>\n",
       "      <td>Euphoric atmosphere in Latur. Addressing a lar...</td>\n",
       "    </tr>\n",
       "  </tbody>\n",
       "</table>\n",
       "</div>"
      ],
      "text/plain": [
       "                                              tweets\n",
       "0  The enthusiasm in Latur was unparalleled. Peop...\n",
       "1  Shri KM Mani was a stalwart of Kerala politics...\n",
       "2  Come to Mysuru and see the strong support for ...\n",
       "3  Hello Karnataka! Beginning the campaign in the...\n",
       "4  RT @JagranNews: डिक्शनरी में जितने कड़वे और गं...\n",
       "5  RT @JagranNews: एक्सक्लूसिव इंटरव्यू में प्रधा...\n",
       "6  RT @JagranNews: पीएम मोदी ने जागरण को दिए इंटर...\n",
       "7  सेक्युलरिज्म के नाम पर सम्प्रदायवाद करने वालों...\n",
       "8  गरीबों के नाम पर हमने राजनीति नहीं की, काम किय...\n",
       "9  Euphoric atmosphere in Latur. Addressing a lar..."
      ]
     },
     "metadata": {},
     "output_type": "display_data"
    }
   ],
   "source": [
    "data = pd.DataFrame(data=[tweet.text for tweet in tweets], columns=['tweets'])\n",
    " \n",
    "display(data.head(10))"
   ]
  },
  {
   "cell_type": "code",
   "execution_count": 6,
   "metadata": {},
   "outputs": [
    {
     "data": {
      "text/plain": [
       "(Index(['tweets'], dtype='object'), (3210, 1), tweets    object\n",
       " dtype: object,                                               tweets\n",
       " 0  The enthusiasm in Latur was unparalleled. Peop...\n",
       " 1  Shri KM Mani was a stalwart of Kerala politics...\n",
       " 2  Come to Mysuru and see the strong support for ...\n",
       " 3  Hello Karnataka! Beginning the campaign in the...\n",
       " 4  RT @JagranNews: डिक्शनरी में जितने कड़वे और गं...)"
      ]
     },
     "execution_count": 6,
     "metadata": {},
     "output_type": "execute_result"
    }
   ],
   "source": [
    "data.columns,data.shape,data.dtypes,data.head()"
   ]
  },
  {
   "cell_type": "code",
   "execution_count": 7,
   "metadata": {},
   "outputs": [
    {
     "name": "stdout",
     "output_type": "stream",
     "text": [
      "1115595470733058049\n",
      "2019-04-09 12:41:01\n",
      "Twitter Web Client\n",
      "329\n",
      "86\n",
      "None\n",
      "None\n",
      "{'hashtags': [], 'symbols': [], 'user_mentions': [], 'urls': [{'url': 'https://t.co/CVMPBKzWv5', 'expanded_url': 'https://twitter.com/i/web/status/1115595470733058049', 'display_url': 'twitter.com/i/web/status/1…', 'indices': [116, 139]}]}\n"
     ]
    }
   ],
   "source": [
    "# We print info from the first tweet:\n",
    " \n",
    "print(tweets[0].id)\n",
    "print(tweets[0].created_at)\n",
    "print(tweets[0].source)\n",
    "print(tweets[0].favorite_count)\n",
    "print(tweets[0].retweet_count)\n",
    "print(tweets[0].geo)\n",
    "print(tweets[0].coordinates)\n",
    "print(tweets[0].entities)"
   ]
  },
  {
   "cell_type": "code",
   "execution_count": 9,
   "metadata": {},
   "outputs": [],
   "source": [
    "# We add relevant data\n",
    "data['len'] = np.array([len(tweet.text) for tweet in tweets])\n",
    "data['ID'] = np.array([tweet.id for tweet in tweets])\n",
    "data['Date'] = np.array([tweet.created_at for tweet in tweets])\n",
    "data['Source'] = np.array([tweet.source for tweet in tweets])\n",
    "data['Likes'] = np.array([tweet.favorite_count for tweet in tweets])\n",
    "data['RTs'] = np.array([tweet.retweet_count for tweet in tweets])"
   ]
  },
  {
   "cell_type": "code",
   "execution_count": 10,
   "metadata": {},
   "outputs": [
    {
     "data": {
      "text/html": [
       "<div>\n",
       "<style scoped>\n",
       "    .dataframe tbody tr th:only-of-type {\n",
       "        vertical-align: middle;\n",
       "    }\n",
       "\n",
       "    .dataframe tbody tr th {\n",
       "        vertical-align: top;\n",
       "    }\n",
       "\n",
       "    .dataframe thead th {\n",
       "        text-align: right;\n",
       "    }\n",
       "</style>\n",
       "<table border=\"1\" class=\"dataframe\">\n",
       "  <thead>\n",
       "    <tr style=\"text-align: right;\">\n",
       "      <th></th>\n",
       "      <th>tweets</th>\n",
       "      <th>len</th>\n",
       "      <th>ID</th>\n",
       "      <th>Date</th>\n",
       "      <th>Source</th>\n",
       "      <th>Likes</th>\n",
       "      <th>RTs</th>\n",
       "    </tr>\n",
       "  </thead>\n",
       "  <tbody>\n",
       "    <tr>\n",
       "      <th>0</th>\n",
       "      <td>The enthusiasm in Latur was unparalleled. Peop...</td>\n",
       "      <td>139</td>\n",
       "      <td>1115595470733058049</td>\n",
       "      <td>2019-04-09 12:41:01</td>\n",
       "      <td>Twitter Web Client</td>\n",
       "      <td>329</td>\n",
       "      <td>86</td>\n",
       "    </tr>\n",
       "    <tr>\n",
       "      <th>1</th>\n",
       "      <td>Shri KM Mani was a stalwart of Kerala politics...</td>\n",
       "      <td>140</td>\n",
       "      <td>1115594810063110144</td>\n",
       "      <td>2019-04-09 12:38:24</td>\n",
       "      <td>Twitter Web Client</td>\n",
       "      <td>1055</td>\n",
       "      <td>231</td>\n",
       "    </tr>\n",
       "    <tr>\n",
       "      <th>2</th>\n",
       "      <td>Come to Mysuru and see the strong support for ...</td>\n",
       "      <td>74</td>\n",
       "      <td>1115582160486854657</td>\n",
       "      <td>2019-04-09 11:48:08</td>\n",
       "      <td>Periscope</td>\n",
       "      <td>5972</td>\n",
       "      <td>1663</td>\n",
       "    </tr>\n",
       "    <tr>\n",
       "      <th>3</th>\n",
       "      <td>Hello Karnataka! Beginning the campaign in the...</td>\n",
       "      <td>120</td>\n",
       "      <td>1115546843251785728</td>\n",
       "      <td>2019-04-09 09:27:47</td>\n",
       "      <td>Periscope</td>\n",
       "      <td>10203</td>\n",
       "      <td>2988</td>\n",
       "    </tr>\n",
       "    <tr>\n",
       "      <th>4</th>\n",
       "      <td>RT @JagranNews: डिक्शनरी में जितने कड़वे और गं...</td>\n",
       "      <td>140</td>\n",
       "      <td>1115529318967332864</td>\n",
       "      <td>2019-04-09 08:18:09</td>\n",
       "      <td>Twitter Web Client</td>\n",
       "      <td>0</td>\n",
       "      <td>2125</td>\n",
       "    </tr>\n",
       "    <tr>\n",
       "      <th>5</th>\n",
       "      <td>RT @JagranNews: एक्सक्लूसिव इंटरव्यू में प्रधा...</td>\n",
       "      <td>140</td>\n",
       "      <td>1115529251225137153</td>\n",
       "      <td>2019-04-09 08:17:53</td>\n",
       "      <td>Twitter Web Client</td>\n",
       "      <td>0</td>\n",
       "      <td>897</td>\n",
       "    </tr>\n",
       "    <tr>\n",
       "      <th>6</th>\n",
       "      <td>RT @JagranNews: पीएम मोदी ने जागरण को दिए इंटर...</td>\n",
       "      <td>140</td>\n",
       "      <td>1115529207885381632</td>\n",
       "      <td>2019-04-09 08:17:43</td>\n",
       "      <td>Twitter Web Client</td>\n",
       "      <td>0</td>\n",
       "      <td>1380</td>\n",
       "    </tr>\n",
       "    <tr>\n",
       "      <th>7</th>\n",
       "      <td>सेक्युलरिज्म के नाम पर सम्प्रदायवाद करने वालों...</td>\n",
       "      <td>140</td>\n",
       "      <td>1115528889705480194</td>\n",
       "      <td>2019-04-09 08:16:27</td>\n",
       "      <td>Twitter Web Client</td>\n",
       "      <td>15031</td>\n",
       "      <td>4783</td>\n",
       "    </tr>\n",
       "    <tr>\n",
       "      <th>8</th>\n",
       "      <td>गरीबों के नाम पर हमने राजनीति नहीं की, काम किय...</td>\n",
       "      <td>140</td>\n",
       "      <td>1115527857097269248</td>\n",
       "      <td>2019-04-09 08:12:21</td>\n",
       "      <td>Twitter Web Client</td>\n",
       "      <td>14003</td>\n",
       "      <td>3899</td>\n",
       "    </tr>\n",
       "    <tr>\n",
       "      <th>9</th>\n",
       "      <td>Euphoric atmosphere in Latur. Addressing a lar...</td>\n",
       "      <td>86</td>\n",
       "      <td>1115496903087497216</td>\n",
       "      <td>2019-04-09 06:09:21</td>\n",
       "      <td>Periscope</td>\n",
       "      <td>13181</td>\n",
       "      <td>3971</td>\n",
       "    </tr>\n",
       "  </tbody>\n",
       "</table>\n",
       "</div>"
      ],
      "text/plain": [
       "                                              tweets  len  \\\n",
       "0  The enthusiasm in Latur was unparalleled. Peop...  139   \n",
       "1  Shri KM Mani was a stalwart of Kerala politics...  140   \n",
       "2  Come to Mysuru and see the strong support for ...   74   \n",
       "3  Hello Karnataka! Beginning the campaign in the...  120   \n",
       "4  RT @JagranNews: डिक्शनरी में जितने कड़वे और गं...  140   \n",
       "5  RT @JagranNews: एक्सक्लूसिव इंटरव्यू में प्रधा...  140   \n",
       "6  RT @JagranNews: पीएम मोदी ने जागरण को दिए इंटर...  140   \n",
       "7  सेक्युलरिज्म के नाम पर सम्प्रदायवाद करने वालों...  140   \n",
       "8  गरीबों के नाम पर हमने राजनीति नहीं की, काम किय...  140   \n",
       "9  Euphoric atmosphere in Latur. Addressing a lar...   86   \n",
       "\n",
       "                    ID                Date              Source  Likes   RTs  \n",
       "0  1115595470733058049 2019-04-09 12:41:01  Twitter Web Client    329    86  \n",
       "1  1115594810063110144 2019-04-09 12:38:24  Twitter Web Client   1055   231  \n",
       "2  1115582160486854657 2019-04-09 11:48:08           Periscope   5972  1663  \n",
       "3  1115546843251785728 2019-04-09 09:27:47           Periscope  10203  2988  \n",
       "4  1115529318967332864 2019-04-09 08:18:09  Twitter Web Client      0  2125  \n",
       "5  1115529251225137153 2019-04-09 08:17:53  Twitter Web Client      0   897  \n",
       "6  1115529207885381632 2019-04-09 08:17:43  Twitter Web Client      0  1380  \n",
       "7  1115528889705480194 2019-04-09 08:16:27  Twitter Web Client  15031  4783  \n",
       "8  1115527857097269248 2019-04-09 08:12:21  Twitter Web Client  14003  3899  \n",
       "9  1115496903087497216 2019-04-09 06:09:21           Periscope  13181  3971  "
      ]
     },
     "metadata": {},
     "output_type": "display_data"
    }
   ],
   "source": [
    "display(data.head(10))"
   ]
  },
  {
   "cell_type": "code",
   "execution_count": 11,
   "metadata": {},
   "outputs": [
    {
     "data": {
      "text/plain": [
       "Index(['tweets', 'len', 'ID', 'Date', 'Source', 'Likes', 'RTs'], dtype='object')"
      ]
     },
     "execution_count": 11,
     "metadata": {},
     "output_type": "execute_result"
    }
   ],
   "source": [
    "data.to_csv('Narendra_Modi_Latest')\n",
    "data.columns"
   ]
  },
  {
   "cell_type": "code",
   "execution_count": 12,
   "metadata": {},
   "outputs": [
    {
     "name": "stdout",
     "output_type": "stream",
     "text": [
      "the length's average in tweets: 128.28380062305297\n"
     ]
    }
   ],
   "source": [
    "# Visualization and basic stats\n",
    " \n",
    "# We extract the mean of length\n",
    " \n",
    "mean = np.mean(data['len'])\n",
    "print(\"the length's average in tweets: {}\".format(mean))"
   ]
  },
  {
   "cell_type": "code",
   "execution_count": 13,
   "metadata": {},
   "outputs": [
    {
     "name": "stdout",
     "output_type": "stream",
     "text": [
      "the tweet with more likes is: \n",
      "Welcome Home Wing Commander Abhinandan!\n",
      "\n",
      "The nation is proud of your exemplary courage.\n",
      "\n",
      "Our armed forces are an in… https://t.co/M8gC4mWWFX\n",
      "Number of likes: 271609\n",
      "140 character.\n",
      "\n",
      "The tweet with more retweets is: \n",
      "Welcome Home Wing Commander Abhinandan!\n",
      "\n",
      "The nation is proud of your exemplary courage.\n",
      "\n",
      "Our armed forces are an in… https://t.co/M8gC4mWWFX\n",
      "Number of retweets: 66235\n",
      "140 character.\n",
      "\n"
     ]
    }
   ],
   "source": [
    "# We extract the tweet with more FAVs and mote RTs:\n",
    " \n",
    "fav_max = np.max(data['Likes'])\n",
    "rt_max = np.max(data['RTs'])\n",
    " \n",
    "fav = data[data.Likes == fav_max].index[0]\n",
    "rt = data[data.RTs == rt_max].index[0]\n",
    " \n",
    "# Max FAVs:\n",
    "print(\"the tweet with more likes is: \\n{}\".format(data['tweets'][fav]))\n",
    "print(\"Number of likes: {}\".format(fav_max))\n",
    "print(\"{} character.\\n\".format(data['len'][fav]))\n",
    " \n",
    "# Max RTs:\n",
    "print(\"The tweet with more retweets is: \\n{}\".format(data['tweets'][rt]))\n",
    "print(\"Number of retweets: {}\".format(rt_max))\n",
    "print(\"{} character.\\n\".format(data['len'][rt]))"
   ]
  },
  {
   "cell_type": "code",
   "execution_count": 14,
   "metadata": {},
   "outputs": [],
   "source": [
    "tlen = pd.Series(data = data['len'].values)   #, index=data['Data'])\n",
    "tfav = pd.Series(data = data['Likes'].values)   #, index=data['Data'])\n",
    "tret = pd.Series(data = data['RTs'].values) #, index=data['Data']"
   ]
  },
  {
   "cell_type": "code",
   "execution_count": 15,
   "metadata": {},
   "outputs": [
    {
     "data": {
      "image/png": "[encoded data removed]",
      "text/plain": [
       "<matplotlib.figure.Figure at 0x225785db748>"
      ]
     },
     "metadata": {},
     "output_type": "display_data"
    }
   ],
   "source": [
    "# Lenghts along time:\n",
    "tlen.plot(figsize=(16,4), color='r');"
   ]
  },
  {
   "cell_type": "code",
   "execution_count": 16,
   "metadata": {},
   "outputs": [
    {
     "data": {
      "image/png": "[encoded data removed]",
      "text/plain": [
       "<matplotlib.figure.Figure at 0x225786fc518>"
      ]
     },
     "metadata": {},
     "output_type": "display_data"
    }
   ],
   "source": [
    "# Likes vs retweets visualization:\n",
    "tfav.plot(figsize=(16,4), label=\"Likes\", legend=True)\n",
    "tret.plot(figsize=(16,4), label=\"Retweets\", legend=True);"
   ]
  },
  {
   "cell_type": "markdown",
   "metadata": {},
   "source": [
    "## Pie Chart of Sources"
   ]
  },
  {
   "cell_type": "code",
   "execution_count": 17,
   "metadata": {
    "scrolled": true
   },
   "outputs": [
    {
     "name": "stdout",
     "output_type": "stream",
     "text": [
      "Creation of content sources:\n",
      "* Twitter Web Client\n",
      "* Periscope\n",
      "* Twitter for iPhone\n",
      "* Twitter Media Studio\n",
      "* Twitter for Android\n",
      "* Twitter Ads Composer\n"
     ]
    }
   ],
   "source": [
    "# We obtain all possible sources:\n",
    "sources = []\n",
    "for source in data['Source']:\n",
    "    if source not in sources:\n",
    "        sources.append(source)\n",
    " \n",
    "# We print sources list:\n",
    "print(\"Creation of content sources:\")\n",
    "for source in sources:\n",
    "    print(\"* {}\".format(source))"
   ]
  },
  {
   "cell_type": "code",
   "execution_count": 18,
   "metadata": {},
   "outputs": [
    {
     "data": {
      "image/png": "[encoded data removed]",
      "text/plain": [
       "<matplotlib.figure.Figure at 0x22578792198>"
      ]
     },
     "metadata": {},
     "output_type": "display_data"
    }
   ],
   "source": [
    "# We create a numpy vector mapped to labels:\n",
    "percent = np.zeros(len(sources))\n",
    " \n",
    "for source in data['Source']:\n",
    "    for index in range(len(sources)):\n",
    "        if source == sources[index]:\n",
    "            percent[index] += 1\n",
    "            pass\n",
    " \n",
    "percent /= 100\n",
    " \n",
    "# Pie chart:\n",
    "pie_chart = pd.Series(percent, index=sources,name='')\n",
    "pie_chart.plot.pie(fontsize=11, autopct='%.2f', figsize=(6, 6));"
   ]
  },
  {
   "cell_type": "markdown",
   "metadata": {},
   "source": [
    "# Sentiment Analysis"
   ]
  },
  {
   "cell_type": "code",
   "execution_count": 19,
   "metadata": {},
   "outputs": [],
   "source": [
    "import textblob\n",
    "import re\n",
    " \n",
    "def clean_tweet(tweet):\n",
    "    '''\n",
    "    Utility function to clean the text in a tweet by removing \n",
    "    links and special characters using regex.\n",
    "    '''\n",
    "    return ' '.join(re.sub(\"(@[A-Za-z0-9]+)|([^0-9A-Za-z \\t])|(\\w+:\\/\\/\\S+)\", \" \", tweet).split())\n",
    " \n",
    "def analize_sentiment(tweet):\n",
    "    '''\n",
    "    Utility function to classify the polarity of a tweet\n",
    "    using textblob.\n",
    "    '''\n",
    "    analysis = textblob.TextBlob(clean_tweet(tweet))\n",
    "    #return str(analysis.sentiment.polarity)\n",
    "    if analysis.sentiment.polarity == 0:\n",
    "        return 0\n",
    "    elif analysis.sentiment.polarity > 0:\n",
    "        return 1\n",
    "    else:\n",
    "        return -1"
   ]
  },
  {
   "cell_type": "code",
   "execution_count": 20,
   "metadata": {},
   "outputs": [],
   "source": [
    "l=[]\n",
    "for tweet in data['tweets']:\n",
    "    l.append(analize_sentiment(tweet))"
   ]
  },
  {
   "cell_type": "code",
   "execution_count": 21,
   "metadata": {},
   "outputs": [],
   "source": [
    "data['SA']=np.array(l)"
   ]
  },
  {
   "cell_type": "code",
   "execution_count": 22,
   "metadata": {},
   "outputs": [
    {
     "data": {
      "text/html": [
       "<div>\n",
       "<style scoped>\n",
       "    .dataframe tbody tr th:only-of-type {\n",
       "        vertical-align: middle;\n",
       "    }\n",
       "\n",
       "    .dataframe tbody tr th {\n",
       "        vertical-align: top;\n",
       "    }\n",
       "\n",
       "    .dataframe thead th {\n",
       "        text-align: right;\n",
       "    }\n",
       "</style>\n",
       "<table border=\"1\" class=\"dataframe\">\n",
       "  <thead>\n",
       "    <tr style=\"text-align: right;\">\n",
       "      <th></th>\n",
       "      <th>tweets</th>\n",
       "      <th>len</th>\n",
       "      <th>ID</th>\n",
       "      <th>Date</th>\n",
       "      <th>Source</th>\n",
       "      <th>Likes</th>\n",
       "      <th>RTs</th>\n",
       "      <th>SA</th>\n",
       "    </tr>\n",
       "  </thead>\n",
       "  <tbody>\n",
       "    <tr>\n",
       "      <th>0</th>\n",
       "      <td>The enthusiasm in Latur was unparalleled. Peop...</td>\n",
       "      <td>139</td>\n",
       "      <td>1115595470733058049</td>\n",
       "      <td>2019-04-09 12:41:01</td>\n",
       "      <td>Twitter Web Client</td>\n",
       "      <td>329</td>\n",
       "      <td>86</td>\n",
       "      <td>1</td>\n",
       "    </tr>\n",
       "    <tr>\n",
       "      <th>1</th>\n",
       "      <td>Shri KM Mani was a stalwart of Kerala politics...</td>\n",
       "      <td>140</td>\n",
       "      <td>1115594810063110144</td>\n",
       "      <td>2019-04-09 12:38:24</td>\n",
       "      <td>Twitter Web Client</td>\n",
       "      <td>1055</td>\n",
       "      <td>231</td>\n",
       "      <td>1</td>\n",
       "    </tr>\n",
       "    <tr>\n",
       "      <th>2</th>\n",
       "      <td>Come to Mysuru and see the strong support for ...</td>\n",
       "      <td>74</td>\n",
       "      <td>1115582160486854657</td>\n",
       "      <td>2019-04-09 11:48:08</td>\n",
       "      <td>Periscope</td>\n",
       "      <td>5972</td>\n",
       "      <td>1663</td>\n",
       "      <td>1</td>\n",
       "    </tr>\n",
       "    <tr>\n",
       "      <th>3</th>\n",
       "      <td>Hello Karnataka! Beginning the campaign in the...</td>\n",
       "      <td>120</td>\n",
       "      <td>1115546843251785728</td>\n",
       "      <td>2019-04-09 09:27:47</td>\n",
       "      <td>Periscope</td>\n",
       "      <td>10203</td>\n",
       "      <td>2988</td>\n",
       "      <td>0</td>\n",
       "    </tr>\n",
       "    <tr>\n",
       "      <th>4</th>\n",
       "      <td>RT @JagranNews: डिक्शनरी में जितने कड़वे और गं...</td>\n",
       "      <td>140</td>\n",
       "      <td>1115529318967332864</td>\n",
       "      <td>2019-04-09 08:18:09</td>\n",
       "      <td>Twitter Web Client</td>\n",
       "      <td>0</td>\n",
       "      <td>2125</td>\n",
       "      <td>0</td>\n",
       "    </tr>\n",
       "  </tbody>\n",
       "</table>\n",
       "</div>"
      ],
      "text/plain": [
       "                                              tweets  len  \\\n",
       "0  The enthusiasm in Latur was unparalleled. Peop...  139   \n",
       "1  Shri KM Mani was a stalwart of Kerala politics...  140   \n",
       "2  Come to Mysuru and see the strong support for ...   74   \n",
       "3  Hello Karnataka! Beginning the campaign in the...  120   \n",
       "4  RT @JagranNews: डिक्शनरी में जितने कड़वे और गं...  140   \n",
       "\n",
       "                    ID                Date              Source  Likes   RTs  \\\n",
       "0  1115595470733058049 2019-04-09 12:41:01  Twitter Web Client    329    86   \n",
       "1  1115594810063110144 2019-04-09 12:38:24  Twitter Web Client   1055   231   \n",
       "2  1115582160486854657 2019-04-09 11:48:08           Periscope   5972  1663   \n",
       "3  1115546843251785728 2019-04-09 09:27:47           Periscope  10203  2988   \n",
       "4  1115529318967332864 2019-04-09 08:18:09  Twitter Web Client      0  2125   \n",
       "\n",
       "   SA  \n",
       "0   1  \n",
       "1   1  \n",
       "2   1  \n",
       "3   0  \n",
       "4   0  "
      ]
     },
     "execution_count": 22,
     "metadata": {},
     "output_type": "execute_result"
    }
   ],
   "source": [
    "data.head()"
   ]
  },
  {
   "cell_type": "markdown",
   "metadata": {},
   "source": [
    "## Analyzing the result"
   ]
  },
  {
   "cell_type": "code",
   "execution_count": 23,
   "metadata": {},
   "outputs": [],
   "source": [
    "# We construct lists with classified tweets:\n",
    " \n",
    "pos_tweets = [ tweet for index, tweet in enumerate(data['tweets']) if data['SA'][index] > 0]\n",
    "neu_tweets = [ tweet for index, tweet in enumerate(data['tweets']) if data['SA'][index] == 0]\n",
    "neg_tweets = [ tweet for index, tweet in enumerate(data['tweets']) if data['SA'][index] < 0]"
   ]
  },
  {
   "cell_type": "code",
   "execution_count": 24,
   "metadata": {},
   "outputs": [
    {
     "name": "stdout",
     "output_type": "stream",
     "text": [
      "Percentage of positive tweets: 46.04361370716511%\n",
      "Percentage of neutral tweets: 47.78816199376947%\n",
      "Percentage of negative tweets: 6.168224299065421%\n"
     ]
    }
   ],
   "source": [
    "# We print percentages:\n",
    " \n",
    "print(\"Percentage of positive tweets: {}%\".format(len(pos_tweets)*100/len(data['tweets'])))\n",
    "print(\"Percentage of neutral tweets: {}%\".format(len(neu_tweets)*100/len(data['tweets'])))\n",
    "print(\"Percentage of negative tweets: {}%\".format(len(neg_tweets)*100/len(data['tweets'])))"
   ]
  },
  {
   "cell_type": "code",
   "execution_count": 25,
   "metadata": {},
   "outputs": [],
   "source": [
    "p=(len(pos_tweets)*100/len(data['tweets']))\n",
    "ne=(len(neu_tweets)*100/len(data['tweets']))\n",
    "n=(len(neg_tweets)*100/len(data['tweets']))"
   ]
  },
  {
   "cell_type": "code",
   "execution_count": 26,
   "metadata": {},
   "outputs": [],
   "source": [
    "d=[p,ne,n]\n",
    "l=['Positive Sentiments','Neutral_Sentiments','Negative_Sentiments']"
   ]
  },
  {
   "cell_type": "code",
   "execution_count": 27,
   "metadata": {},
   "outputs": [
    {
     "data": {
      "image/png": "[encoded data removed]",
      "text/plain": [
       "<matplotlib.figure.Figure at 0x2257a8c3b70>"
      ]
     },
     "metadata": {},
     "output_type": "display_data"
    }
   ],
   "source": [
    "plt.pie(d,labels=l,autopct=\"%0.2f\",shadow=True,explode=(0.1,0,0),colors=['green','blue','red'])\n",
    "#plt.title(\"Sentiment Analysis on PM Narendra Modi's Tweets\",size=25)\n",
    "plt.show()\n"
   ]
  },
  {
   "cell_type": "code",
   "execution_count": 28,
   "metadata": {},
   "outputs": [
    {
     "data": {
      "image/png": "[encoded data removed]",
      "text/plain": [
       "<matplotlib.figure.Figure at 0x2257a8b6898>"
      ]
     },
     "metadata": {},
     "output_type": "display_data"
    }
   ],
   "source": [
    "plt.bar(l,d,color=['green','blue','red'])\n",
    "#plt.title(\"Sentiment Analysis on PM Narendra Modi's Tweets\",size=15)\n",
    "plt.ylabel(\"Sentiments in %\")\n",
    "plt.show()"
   ]
  },
  {
   "cell_type": "code",
   "execution_count": null,
   "metadata": {},
   "outputs": [],
   "source": []
  }
 ],
 "metadata": {
  "kernelspec": {
   "display_name": "Python 3",
   "language": "python",
   "name": "python3"
  },
  "language_info": {
   "codemirror_mode": {
    "name": "ipython",
    "version": 3
   },
   "file_extension": ".py",
   "mimetype": "text/x-python",
   "name": "python",
   "nbconvert_exporter": "python",
   "pygments_lexer": "ipython3",
   "version": "3.6.4"
  }
 },
 "nbformat": 4,
 "nbformat_minor": 2
}
